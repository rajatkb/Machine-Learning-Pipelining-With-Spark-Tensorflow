{
  "nbformat": 4,
  "nbformat_minor": 0,
  "metadata": {
    "colab": {
      "name": "Machine Learning Pipelining using Spark and Tensorflow .ipynb",
      "provenance": [],
      "collapsed_sections": [],
      "toc_visible": true,
      "authorship_tag": "ABX9TyORL7tUolmkauEmHeL0WhjP",
      "include_colab_link": true
    },
    "kernelspec": {
      "name": "python3",
      "display_name": "Python 3"
    }
  },
  "cells": [
    {
      "cell_type": "markdown",
      "metadata": {
        "id": "view-in-github",
        "colab_type": "text"
      },
      "source": [
        "<a href=\"https://colab.research.google.com/github/rajatkb/Machine-Learning-Pipelining-With-Spark-Tensorflow/blob/main/Machine_Learning_Pipelining_using_Spark_and_Tensorflow_.ipynb\" target=\"_parent\"><img src=\"https://colab.research.google.com/assets/colab-badge.svg\" alt=\"Open In Colab\"/></a>"
      ]
    },
    {
      "cell_type": "code",
      "metadata": {
        "id": "CKoHNd-kipel"
      },
      "source": [
        ""
      ],
      "execution_count": null,
      "outputs": []
    },
    {
      "cell_type": "markdown",
      "metadata": {
        "id": "2OHZ6c9sjGPL"
      },
      "source": [
        "# Preparing environment"
      ]
    },
    {
      "cell_type": "code",
      "metadata": {
        "id": "FZ-NMce2jK6C",
        "outputId": "7bfc8f1b-08d8-444a-b811-cbfd3faa9760",
        "colab": {
          "base_uri": "https://localhost:8080/"
        }
      },
      "source": [
        "!apt-get install openjdk-8-jdk-headless -qq > /dev/null\n",
        "# !wget -q https://mirrors.estointernet.in/apache/spark/spark-3.0.1/spark-3.0.1-bin-hadoop2.7.tgz\n",
        "!tar xf spark-3.0.1-bin-hadoop2.7.tgz\n",
        "!pip install -q findspark\n",
        "!pip install py4j"
      ],
      "execution_count": 1,
      "outputs": [
        {
          "output_type": "stream",
          "text": [
            "Requirement already satisfied: py4j in /usr/local/lib/python3.6/dist-packages (0.10.9.1)\n"
          ],
          "name": "stdout"
        }
      ]
    },
    {
      "cell_type": "code",
      "metadata": {
        "id": "vspiKV33jWS2"
      },
      "source": [
        "import os\n",
        "os.environ[\"JAVA_HOME\"] = \"/usr/lib/jvm/java-8-openjdk-amd64\"\n",
        "os.environ[\"SPARK_HOME\"] = \"/content/spark-3.0.1-bin-hadoop2.7\""
      ],
      "execution_count": 2,
      "outputs": []
    },
    {
      "cell_type": "code",
      "metadata": {
        "id": "lF5MPtpplijX"
      },
      "source": [
        "import findspark\n",
        "findspark.init(\"spark-3.0.1-bin-hadoop2.7\")# SPARK_HOME\n",
        "\n",
        "\n",
        "from pyspark.sql import SparkSession\n",
        "spark = SparkSession.builder.master(\"local[*]\").config(\"spark.ui.showConsoleProgress\", \"true\").getOrCreate() "
      ],
      "execution_count": 3,
      "outputs": []
    },
    {
      "cell_type": "code",
      "metadata": {
        "id": "7TJvcPg1lVLr",
        "outputId": "b109d5f8-a61b-49d7-be89-329e94fd396c",
        "colab": {
          "base_uri": "https://localhost:8080/"
        }
      },
      "source": [
        "## Test\n",
        "df = spark.createDataFrame([{\"hello\": \"world\"} for x in range(1000)])\n",
        "df.show(3)"
      ],
      "execution_count": 5,
      "outputs": [
        {
          "output_type": "stream",
          "text": [
            "spark-3.0.1-bin-hadoop2.7/python/pyspark/sql/session.py:381: UserWarning: inferring schema from dict is deprecated,please use pyspark.sql.Row instead\n",
            "  warnings.warn(\"inferring schema from dict is deprecated,\"\n"
          ],
          "name": "stderr"
        },
        {
          "output_type": "stream",
          "text": [
            "+-----+\n",
            "|hello|\n",
            "+-----+\n",
            "|world|\n",
            "|world|\n",
            "|world|\n",
            "+-----+\n",
            "only showing top 3 rows\n",
            "\n"
          ],
          "name": "stdout"
        }
      ]
    },
    {
      "cell_type": "code",
      "metadata": {
        "id": "LHC_fbfPlc0q",
        "outputId": "07f62ccb-efaa-42b4-fb03-e1fa8f70b090",
        "colab": {
          "base_uri": "https://localhost:8080/"
        }
      },
      "source": [
        "spark.sparkContext.defaultParallelism"
      ],
      "execution_count": 6,
      "outputs": [
        {
          "output_type": "execute_result",
          "data": {
            "text/plain": [
              "2"
            ]
          },
          "metadata": {
            "tags": []
          },
          "execution_count": 6
        }
      ]
    },
    {
      "cell_type": "code",
      "metadata": {
        "id": "OcpAfqTLKEDs"
      },
      "source": [
        ""
      ],
      "execution_count": 11,
      "outputs": []
    },
    {
      "cell_type": "markdown",
      "metadata": {
        "id": "TKgpmHHJeTdR"
      },
      "source": [
        "## dataset\n",
        "\n",
        "Dataset Kaggle : [tweeter sentiment for airline](https://www.kaggle.com/crowdflower/twitter-airline-sentiment)"
      ]
    },
    {
      "cell_type": "markdown",
      "metadata": {
        "id": "QQABFKjWKEqm"
      },
      "source": [
        "# Data Pipeline\n",
        "\n",
        "- Understanding the *what* and *why* \n",
        "- **Python :** Generators , Python Numpy vectorised operation , Trust the framework\n",
        "- **Spark :** As a replacement to Pandas, data preprocessing , Use cases \n",
        "- **Tensorflow :** TfRecords API , preprocessing & binary serialization , data -> gpu training pipelining"
      ]
    },
    {
      "cell_type": "markdown",
      "metadata": {
        "id": "hDG2txDoDZkG"
      },
      "source": [
        "## Python"
      ]
    },
    {
      "cell_type": "code",
      "metadata": {
        "id": "hFwYWxQHKH_L"
      },
      "source": [
        ""
      ],
      "execution_count": 11,
      "outputs": []
    },
    {
      "cell_type": "markdown",
      "metadata": {
        "id": "XezSwqAGDdhF"
      },
      "source": [
        "### Generators"
      ]
    },
    {
      "cell_type": "code",
      "metadata": {
        "id": "ZWWpSvXaVM-K"
      },
      "source": [
        "## fun1\n",
        "## fun2 ^\n"
      ],
      "execution_count": null,
      "outputs": []
    },
    {
      "cell_type": "code",
      "metadata": {
        "id": "kjHkUKl3RDyq",
        "outputId": "f2ef5dc8-8c0d-4e63-ff7a-ffe6fb7a9adc",
        "colab": {
          "base_uri": "https://localhost:8080/"
        }
      },
      "source": [
        "with open('Tweets.csv') as file:\n",
        "    print(file.read())"
      ],
      "execution_count": 68,
      "outputs": [
        {
          "output_type": "stream",
          "text": [
            "IOPub data rate exceeded.\n",
            "The notebook server will temporarily stop sending output\n",
            "to the client in order to avoid crashing it.\n",
            "To change this limit, set the config variable\n",
            "`--NotebookApp.iopub_data_rate_limit`.\n",
            "\n",
            "Current values:\n",
            "NotebookApp.iopub_data_rate_limit=1000000.0 (bytes/sec)\n",
            "NotebookApp.rate_limit_window=3.0 (secs)\n",
            "\n"
          ],
          "name": "stderr"
        }
      ]
    },
    {
      "cell_type": "code",
      "metadata": {
        "id": "ZooirlZ4RD10"
      },
      "source": [
        "def retGen(filename):\n",
        "    with open(filename) as file:\n",
        "        for line in file:\n",
        "            yield line"
      ],
      "execution_count": 71,
      "outputs": []
    },
    {
      "cell_type": "code",
      "metadata": {
        "id": "xjaLglrSLYD_",
        "outputId": "dc7b4530-7cbe-47ce-89fe-2b9fc416d286",
        "colab": {
          "base_uri": "https://localhost:8080/"
        }
      },
      "source": [
        "for line in retGen(filename='Tweets.csv'):\n",
        "    print(line)\n",
        "    break\n",
        "## 1 char -> 8 bits (0)\n",
        "## integer -> 4bytes -> 32bits"
      ],
      "execution_count": 73,
      "outputs": [
        {
          "output_type": "stream",
          "text": [
            "tweet_id,airline_sentiment,airline_sentiment_confidence,negativereason,negativereason_confidence,airline,airline_sentiment_gold,name,negativereason_gold,retweet_count,text,tweet_coord,tweet_created,tweet_location,user_timezone\n",
            "\n"
          ],
          "name": "stdout"
        }
      ]
    },
    {
      "cell_type": "code",
      "metadata": {
        "id": "SD-W06BlWSYb"
      },
      "source": [
        "import numpy as np"
      ],
      "execution_count": 74,
      "outputs": []
    },
    {
      "cell_type": "code",
      "metadata": {
        "id": "YGW_VTeXWUaA",
        "outputId": "716d865a-7256-4583-f1d7-b01416dde642",
        "colab": {
          "base_uri": "https://localhost:8080/"
        }
      },
      "source": [
        "a = np.random.rand(5 , 5)\n",
        "a"
      ],
      "execution_count": 75,
      "outputs": [
        {
          "output_type": "execute_result",
          "data": {
            "text/plain": [
              "array([[0.13171713, 0.69582503, 0.12882325, 0.43408877, 0.69102702],\n",
              "       [0.92619879, 0.30199973, 0.400361  , 0.94925899, 0.46643273],\n",
              "       [0.64269566, 0.02992722, 0.32962271, 0.04712762, 0.32514932],\n",
              "       [0.34551986, 0.9435124 , 0.12822285, 0.92502212, 0.49776182],\n",
              "       [0.52617413, 0.76673489, 0.80774216, 0.11767549, 0.38528107]])"
            ]
          },
          "metadata": {
            "tags": []
          },
          "execution_count": 75
        }
      ]
    },
    {
      "cell_type": "code",
      "metadata": {
        "id": "_XhucyK0WUol"
      },
      "source": [
        "## PYTHON LOOPSS ARE SLOW"
      ],
      "execution_count": 76,
      "outputs": []
    },
    {
      "cell_type": "code",
      "metadata": {
        "id": "wyZic1XXWUrf",
        "outputId": "bd10962f-71df-4c6e-a914-e1efa32f991e",
        "colab": {
          "base_uri": "https://localhost:8080/"
        }
      },
      "source": [
        "a > 0.5"
      ],
      "execution_count": 77,
      "outputs": [
        {
          "output_type": "execute_result",
          "data": {
            "text/plain": [
              "array([[False,  True, False, False,  True],\n",
              "       [ True, False, False,  True, False],\n",
              "       [ True, False, False, False, False],\n",
              "       [False,  True, False,  True, False],\n",
              "       [ True,  True,  True, False, False]])"
            ]
          },
          "metadata": {
            "tags": []
          },
          "execution_count": 77
        }
      ]
    },
    {
      "cell_type": "code",
      "metadata": {
        "id": "Dw4o7XOeWUuk"
      },
      "source": [
        "## GPU ALTERNATIVE TO NUMPY -> JAX (Google) , Numba "
      ],
      "execution_count": null,
      "outputs": []
    },
    {
      "cell_type": "code",
      "metadata": {
        "id": "8R1kCU1SXRBy"
      },
      "source": [
        "a[a> 0.5] = 5"
      ],
      "execution_count": 78,
      "outputs": []
    },
    {
      "cell_type": "code",
      "metadata": {
        "id": "quASpd1YXURx",
        "outputId": "90a69fc0-b5b6-4a85-b66e-d143e44b2ec0",
        "colab": {
          "base_uri": "https://localhost:8080/"
        }
      },
      "source": [
        "a"
      ],
      "execution_count": 79,
      "outputs": [
        {
          "output_type": "execute_result",
          "data": {
            "text/plain": [
              "array([[0.13171713, 5.        , 0.12882325, 0.43408877, 5.        ],\n",
              "       [5.        , 0.30199973, 0.400361  , 5.        , 0.46643273],\n",
              "       [5.        , 0.02992722, 0.32962271, 0.04712762, 0.32514932],\n",
              "       [0.34551986, 5.        , 0.12822285, 5.        , 0.49776182],\n",
              "       [5.        , 5.        , 5.        , 0.11767549, 0.38528107]])"
            ]
          },
          "metadata": {
            "tags": []
          },
          "execution_count": 79
        }
      ]
    },
    {
      "cell_type": "code",
      "metadata": {
        "id": "PxYHgSlOXmi3"
      },
      "source": [
        "## Question 1\n",
        "\n",
        "a = np.random.randint((10 , 10))"
      ],
      "execution_count": 81,
      "outputs": []
    },
    {
      "cell_type": "code",
      "metadata": {
        "id": "DGNKhk4bXv7F"
      },
      "source": [
        "## Answer\n",
        "\n",
        "## a =?\n",
        "## a[i][j] < 5 = 0\n",
        "## a[i][j] > 5 = 100\n"
      ],
      "execution_count": 83,
      "outputs": []
    },
    {
      "cell_type": "markdown",
      "metadata": {
        "id": "bebRgL_0RFCP"
      },
      "source": [
        "## Spark\n",
        "\n",
        "* [Cheat-Sheet](https://github.com/kevinschaich/pyspark-cheatsheet)"
      ]
    },
    {
      "cell_type": "code",
      "metadata": {
        "id": "6VzKFv1qWCb2"
      },
      "source": [
        "from pyspark.sql import functions as F, types as T"
      ],
      "execution_count": 7,
      "outputs": []
    },
    {
      "cell_type": "code",
      "metadata": {
        "id": "dqd_qcyfAvyo"
      },
      "source": [
        "import pprint\n",
        "pp = pprint.PrettyPrinter(indent = 4)"
      ],
      "execution_count": 8,
      "outputs": []
    },
    {
      "cell_type": "code",
      "metadata": {
        "id": "Ou-1LX3kRD4e"
      },
      "source": [
        "### Read the data first\n",
        "\n",
        "file_name = 'Tweets.csv'\n",
        "## pandas -> Dataframe, \n",
        "## RDD\n",
        "## resilient distributed dataset\n",
        "## operation on a RDD -> DAG \n",
        "\n",
        "df = spark.read.format('csv') \\\n",
        "      .option('header',True) \\\n",
        "      .option('inferSchema',True) \\\n",
        "      .load(file_name)"
      ],
      "execution_count": 11,
      "outputs": []
    },
    {
      "cell_type": "code",
      "metadata": {
        "id": "PjZe0eWyRD7Q",
        "outputId": "fc0c24d5-13eb-4eb4-b40f-5c2ab775f658",
        "colab": {
          "base_uri": "https://localhost:8080/"
        }
      },
      "source": [
        "df.show(20) ## non agregating operation but no RDD"
      ],
      "execution_count": 12,
      "outputs": [
        {
          "output_type": "stream",
          "text": [
            "+--------------------+-----------------+----------------------------+--------------+-------------------------+--------------+----------------------+---------------+-------------------+-------------+--------------------+-----------+--------------------+--------------------+--------------------+\n",
            "|            tweet_id|airline_sentiment|airline_sentiment_confidence|negativereason|negativereason_confidence|       airline|airline_sentiment_gold|           name|negativereason_gold|retweet_count|                text|tweet_coord|       tweet_created|      tweet_location|       user_timezone|\n",
            "+--------------------+-----------------+----------------------------+--------------+-------------------------+--------------+----------------------+---------------+-------------------+-------------+--------------------+-----------+--------------------+--------------------+--------------------+\n",
            "|  570306133677760513|          neutral|                         1.0|          null|                     null|Virgin America|                  null|        cairdin|               null|            0|@VirginAmerica Wh...|       null|2015-02-24 11:35:...|                null|Eastern Time (US ...|\n",
            "|  570301130888122368|         positive|                      0.3486|          null|                      0.0|Virgin America|                  null|       jnardino|               null|            0|@VirginAmerica pl...|       null|2015-02-24 11:15:...|                null|Pacific Time (US ...|\n",
            "|  570301083672813571|          neutral|                      0.6837|          null|                     null|Virgin America|                  null|     yvonnalynn|               null|            0|@VirginAmerica I ...|       null|2015-02-24 11:15:...|           Lets Play|Central Time (US ...|\n",
            "|  570301031407624196|         negative|                         1.0|    Bad Flight|                   0.7033|Virgin America|                  null|       jnardino|               null|            0|\"@VirginAmerica i...|       null|2015-02-24 11:15:...|                null|Pacific Time (US ...|\n",
            "|  570300817074462722|         negative|                         1.0|    Can't Tell|                      1.0|Virgin America|                  null|       jnardino|               null|            0|@VirginAmerica an...|       null|2015-02-24 11:14:...|                null|Pacific Time (US ...|\n",
            "|  570300767074181121|         negative|                         1.0|    Can't Tell|                   0.6842|Virgin America|                  null|       jnardino|               null|            0|@VirginAmerica se...|       null|                null|                null|                null|\n",
            "|it's really the o...|             null|        2015-02-24 11:14:...|          null|     Pacific Time (US ...|          null|                  null|           null|               null|         null|                null|       null|                null|                null|                null|\n",
            "|  570300616901320704|         positive|                      0.6745|          null|                      0.0|Virgin America|                  null|     cjmcginnis|               null|            0|@VirginAmerica ye...|       null|2015-02-24 11:13:...|    San Francisco CA|Pacific Time (US ...|\n",
            "|  570300248553349120|          neutral|                       0.634|          null|                     null|Virgin America|                  null|          pilot|               null|            0|@VirginAmerica Re...|       null|2015-02-24 11:12:...|         Los Angeles|Pacific Time (US ...|\n",
            "|  570299953286942721|         positive|                      0.6559|          null|                     null|Virgin America|                  null|       dhepburn|               null|            0|@virginamerica We...|       null|2015-02-24 11:11:...|           San Diego|Pacific Time (US ...|\n",
            "|  570295459631263746|         positive|                         1.0|          null|                     null|Virgin America|                  null|     YupitsTate|               null|            0|@VirginAmerica it...|       null|2015-02-24 10:53:...|         Los Angeles|Eastern Time (US ...|\n",
            "|  570294189143031808|          neutral|                      0.6769|          null|                      0.0|Virgin America|                  null|idk_but_youtube|               null|            0|@VirginAmerica di...|       null|2015-02-24 10:48:...|     1/1 loner squad|Eastern Time (US ...|\n",
            "|  570289724453216256|         positive|                         1.0|          null|                     null|Virgin America|                  null|   HyperCamiLax|               null|            0|@VirginAmerica I ...|       null|2015-02-24 10:30:...|                 NYC|    America/New_York|\n",
            "|  570289584061480960|         positive|                         1.0|          null|                     null|Virgin America|                  null|   HyperCamiLax|               null|            0|@VirginAmerica Th...|       null|2015-02-24 10:30:...|                 NYC|    America/New_York|\n",
            "|  570287408438120448|         positive|                      0.6451|          null|                     null|Virgin America|                  null|   mollanderson|               null|            0|@VirginAmerica @v...|       null|2015-02-24 10:21:...|                null|Eastern Time (US ...|\n",
            "|  570285904809598977|         positive|                         1.0|          null|                     null|Virgin America|                  null|       sjespers|               null|            0|@VirginAmerica Th...|       null|2015-02-24 10:15:...|   San Francisco, CA|Pacific Time (US ...|\n",
            "|  570282469121007616|         negative|                      0.6842|   Late Flight|                   0.3684|Virgin America|                  null|smartwatermelon|               null|            0|@VirginAmerica SF...|       null|2015-02-24 10:01:...|       palo alto, ca|Pacific Time (US ...|\n",
            "|  570277724385734656|         positive|                         1.0|          null|                     null|Virgin America|                  null|  ItzBrianHunty|               null|            0|@VirginAmerica So...|       null|2015-02-24 09:42:...|         west covina|Pacific Time (US ...|\n",
            "|  570276917301137409|         negative|                         1.0|    Bad Flight|                      1.0|Virgin America|                  null|  heatherovieda|               null|            0|@VirginAmerica  I...|       null|2015-02-24 09:39:...|this place called...|Eastern Time (US ...|\n",
            "|  570270684619923457|         positive|                         1.0|          null|                     null|Virgin America|                  null|   thebrandiray|               null|            0|I ❤️ flying @Virg...|       null|2015-02-24 09:15:...|Somewhere celebra...|Atlantic Time (Ca...|\n",
            "+--------------------+-----------------+----------------------------+--------------+-------------------------+--------------+----------------------+---------------+-------------------+-------------+--------------------+-----------+--------------------+--------------------+--------------------+\n",
            "only showing top 20 rows\n",
            "\n"
          ],
          "name": "stdout"
        }
      ]
    },
    {
      "cell_type": "code",
      "metadata": {
        "id": "keI8OldwVc6F",
        "outputId": "229e4f25-4b6e-4d42-c853-0de9fdb7d136",
        "colab": {
          "base_uri": "https://localhost:8080/"
        }
      },
      "source": [
        "df.describe(['*']).show()"
      ],
      "execution_count": 19,
      "outputs": [
        {
          "output_type": "stream",
          "text": [
            "+-------+--------------------+-----------------+----------------------------+--------------------+-------------------------+--------------------+----------------------+-------------+-------------------+------------------+--------------------+--------------------+--------------------+------------------------+--------------------+\n",
            "|summary|            tweet_id|airline_sentiment|airline_sentiment_confidence|      negativereason|negativereason_confidence|             airline|airline_sentiment_gold|         name|negativereason_gold|     retweet_count|                text|         tweet_coord|       tweet_created|          tweet_location|       user_timezone|\n",
            "+-------+--------------------+-----------------+----------------------------+--------------------+-------------------------+--------------------+----------------------+-------------+-------------------+------------------+--------------------+--------------------+--------------------+------------------------+--------------------+\n",
            "|  count|               14837|            14682|                       14769|                9264|                    10608|               14658|                    49|        14641|                 32|             14632|               14632|                1069|               14448|                    9827|                9734|\n",
            "|   mean|5.692183517673825...|              0.0|           2.277813810532073|                null|       0.6382982797947114|                null|                  null|    9202010.0|               null|0.0826954620010935|                null|                null|                null|      24461.764705882353|                null|\n",
            "| stddev|7.791111584819439E14|              0.0|          166.69511944863604|                null|       0.3304397596377292|                null|                  null|          0.0|               null|0.7459795179851864|                null|                null|                null|        24806.0103869239|                null|\n",
            "|    min|              #damn\"|                 |                      20171 | rented van drove...|                      0.0|2015-02-22 14:22:...|  Atlantic Time (Ca...|0504Traveller|         Bad Flight|                 0|\"\"\"LOL you guys a...|  the plane is no...| better to change...|      || san antonio,...|            single.\"|\n",
            "|    max|             🔵🔵🔵\"|         positive|        [30.441566, -84.2...|ÜT: 42.798909,-71...|            Washington DC|ÜT: 40.96513,-73....|              positive|    zupshawrl|       Lost Luggage|                44|😳 LOLOLOLOLOL “@...|… http://t.co/MmC...|          [0.0, 0.0]|명동서식 37.56638,126...|san francisco cal...|\n",
            "+-------+--------------------+-----------------+----------------------------+--------------------+-------------------------+--------------------+----------------------+-------------+-------------------+------------------+--------------------+--------------------+--------------------+------------------------+--------------------+\n",
            "\n"
          ],
          "name": "stdout"
        }
      ]
    },
    {
      "cell_type": "code",
      "metadata": {
        "id": "v7hBIH88YkrU",
        "outputId": "53274ea4-f83c-4a82-a7b5-7ebd68765f06",
        "colab": {
          "base_uri": "https://localhost:8080/"
        }
      },
      "source": [
        "df.printSchema()"
      ],
      "execution_count": 13,
      "outputs": [
        {
          "output_type": "stream",
          "text": [
            "root\n",
            " |-- tweet_id: string (nullable = true)\n",
            " |-- airline_sentiment: string (nullable = true)\n",
            " |-- airline_sentiment_confidence: string (nullable = true)\n",
            " |-- negativereason: string (nullable = true)\n",
            " |-- negativereason_confidence: string (nullable = true)\n",
            " |-- airline: string (nullable = true)\n",
            " |-- airline_sentiment_gold: string (nullable = true)\n",
            " |-- name: string (nullable = true)\n",
            " |-- negativereason_gold: string (nullable = true)\n",
            " |-- retweet_count: integer (nullable = true)\n",
            " |-- text: string (nullable = true)\n",
            " |-- tweet_coord: string (nullable = true)\n",
            " |-- tweet_created: string (nullable = true)\n",
            " |-- tweet_location: string (nullable = true)\n",
            " |-- user_timezone: string (nullable = true)\n",
            "\n"
          ],
          "name": "stdout"
        }
      ]
    },
    {
      "cell_type": "code",
      "metadata": {
        "id": "yss0XM2DMiv6",
        "outputId": "00399ebd-116e-4160-87a4-c73e842402ea",
        "colab": {
          "base_uri": "https://localhost:8080/"
        }
      },
      "source": [
        "print(\"Total count : \",df.count())"
      ],
      "execution_count": 14,
      "outputs": [
        {
          "output_type": "stream",
          "text": [
            "Total count :  14837\n"
          ],
          "name": "stdout"
        }
      ]
    },
    {
      "cell_type": "markdown",
      "metadata": {
        "id": "Yp2nSSlcdysV"
      },
      "source": [
        "### Clean Tweet airline_sentiment"
      ]
    },
    {
      "cell_type": "code",
      "metadata": {
        "id": "z16ILq1gXJ3E"
      },
      "source": [
        "df_clean_airline_sentiment = df.withColumn('clean_airline_sentiment' ,F.regexp_extract(df.airline_sentiment , r'^(positive|negative|neutral)$' , 1) )\n",
        "df_clean_airline_sentiment = df_clean_airline_sentiment.na.drop(how='any', subset=['clean_airline_sentiment'])"
      ],
      "execution_count": 16,
      "outputs": []
    },
    {
      "cell_type": "code",
      "metadata": {
        "id": "DvIkmFdaLTH0"
      },
      "source": [
        "df_clean_airline_sentiment = df_clean_airline_sentiment.filter(df_clean_airline_sentiment.clean_airline_sentiment != '')"
      ],
      "execution_count": 17,
      "outputs": []
    },
    {
      "cell_type": "code",
      "metadata": {
        "id": "QVpu4ioYWaeS",
        "outputId": "0ed93fbb-0922-4a25-98cd-c0756b54bbf1",
        "colab": {
          "base_uri": "https://localhost:8080/"
        }
      },
      "source": [
        "df_clean_airline_sentiment.select('clean_airline_sentiment').distinct().show()"
      ],
      "execution_count": 18,
      "outputs": [
        {
          "output_type": "stream",
          "text": [
            "+-----------------------+\n",
            "|clean_airline_sentiment|\n",
            "+-----------------------+\n",
            "|               positive|\n",
            "|                neutral|\n",
            "|               negative|\n",
            "+-----------------------+\n",
            "\n"
          ],
          "name": "stdout"
        }
      ]
    },
    {
      "cell_type": "code",
      "metadata": {
        "id": "xV7CvaVaXSTD"
      },
      "source": [
        "df_aug1 = df_clean_airline_sentiment.drop('airline_sentiment').withColumnRenamed('clean_airline_sentiment', 'airline_sentiment')\n",
        "df_clean = df_aug1"
      ],
      "execution_count": 21,
      "outputs": []
    },
    {
      "cell_type": "code",
      "metadata": {
        "id": "Lp5FAcmPbDMz",
        "outputId": "e066d5ae-5783-41e4-f15c-6ba088b2c118",
        "colab": {
          "base_uri": "https://localhost:8080/"
        }
      },
      "source": [
        "## small dataset no\n",
        "## BIG DATASET -> yes\n",
        "df_clean.select('airline_sentiment','tweet_id').sample(0.3).show(20)\n",
        "\n",
        "## lazy evaluation \n",
        "## Tranformations \n",
        "## Actions -> aggregates partitions (data partitions)\n",
        "## show()\n",
        "## "
      ],
      "execution_count": 22,
      "outputs": [
        {
          "output_type": "stream",
          "text": [
            "+-----------------+------------------+\n",
            "|airline_sentiment|          tweet_id|\n",
            "+-----------------+------------------+\n",
            "|          neutral|570306133677760513|\n",
            "|          neutral|570301083672813571|\n",
            "|         negative|570301031407624196|\n",
            "|         positive|570289724453216256|\n",
            "|         positive|570287408438120448|\n",
            "|         positive|570285904809598977|\n",
            "|         negative|570282469121007616|\n",
            "|         positive|570277724385734656|\n",
            "|         negative|570276917301137409|\n",
            "|         positive|570267956648792064|\n",
            "|         positive|570264145116819457|\n",
            "|         positive|570259420287868928|\n",
            "|         negative|570249102404923392|\n",
            "|         negative|570114021854212096|\n",
            "|         negative|570084582780899328|\n",
            "|          neutral|570016304284901379|\n",
            "|         positive|570012257549070337|\n",
            "|          neutral|570011341483843584|\n",
            "|          neutral|570009713447825408|\n",
            "|         negative|569967019958730753|\n",
            "+-----------------+------------------+\n",
            "only showing top 20 rows\n",
            "\n"
          ],
          "name": "stdout"
        }
      ]
    },
    {
      "cell_type": "code",
      "metadata": {
        "id": "SkJ7W-n8bEUA"
      },
      "source": [
        ""
      ],
      "execution_count": 22,
      "outputs": []
    },
    {
      "cell_type": "markdown",
      "metadata": {
        "id": "kO1j5bKheBrV"
      },
      "source": [
        "### Clean Tweet airline_sentiment_confidence "
      ]
    },
    {
      "cell_type": "code",
      "metadata": {
        "id": "mfPHg8XRbEmM",
        "outputId": "9fafaa69-47ce-4435-d614-0c232cd9120e",
        "colab": {
          "base_uri": "https://localhost:8080/"
        }
      },
      "source": [
        "df_aug1.select('airline_sentiment_confidence').sample(0.3).show(20)"
      ],
      "execution_count": 26,
      "outputs": [
        {
          "output_type": "stream",
          "text": [
            "+----------------------------+\n",
            "|airline_sentiment_confidence|\n",
            "+----------------------------+\n",
            "|                      0.3486|\n",
            "|                         1.0|\n",
            "|                         1.0|\n",
            "|                         1.0|\n",
            "|                         1.0|\n",
            "|                      0.6705|\n",
            "|                         1.0|\n",
            "|                         1.0|\n",
            "|                         1.0|\n",
            "|                      0.6791|\n",
            "|                      0.6688|\n",
            "|                      0.6578|\n",
            "|                         1.0|\n",
            "|                      0.7007|\n",
            "|                         1.0|\n",
            "|                         1.0|\n",
            "|                         1.0|\n",
            "|                      0.6492|\n",
            "|                         1.0|\n",
            "|                      0.6792|\n",
            "+----------------------------+\n",
            "only showing top 20 rows\n",
            "\n"
          ],
          "name": "stdout"
        }
      ]
    },
    {
      "cell_type": "code",
      "metadata": {
        "id": "bYTFHk7GgMpX",
        "outputId": "3b4d8f4a-1c9e-40ef-8a6e-10615310e347",
        "colab": {
          "base_uri": "https://localhost:8080/"
        }
      },
      "source": [
        "df_aug1.filter(df_aug1.airline_sentiment_confidence == '').count() ## Its already clean"
      ],
      "execution_count": 27,
      "outputs": [
        {
          "output_type": "execute_result",
          "data": {
            "text/plain": [
              "0"
            ]
          },
          "metadata": {
            "tags": []
          },
          "execution_count": 27
        }
      ]
    },
    {
      "cell_type": "code",
      "metadata": {
        "id": "W18-wzWKMl4A"
      },
      "source": [
        "df_aug2 = df_aug1.withColumn('clean_airline_sentiment_confidence', F.regexp_extract(df.airline_sentiment_confidence , r'^(\\d+.\\d+)$' , 1).cast(\"float\"))"
      ],
      "execution_count": 28,
      "outputs": []
    },
    {
      "cell_type": "code",
      "metadata": {
        "id": "4dtC0Hg2fzaF",
        "outputId": "f0cf1674-d714-4702-d0fe-0bf74201c905",
        "colab": {
          "base_uri": "https://localhost:8080/"
        }
      },
      "source": [
        "df_aug2.select('clean_airline_sentiment_confidence').sample(0.3).show(20)"
      ],
      "execution_count": 29,
      "outputs": [
        {
          "output_type": "stream",
          "text": [
            "+----------------------------------+\n",
            "|clean_airline_sentiment_confidence|\n",
            "+----------------------------------+\n",
            "|                               1.0|\n",
            "|                            0.6745|\n",
            "|                            0.6559|\n",
            "|                            0.6769|\n",
            "|                               1.0|\n",
            "|                               1.0|\n",
            "|                            0.6842|\n",
            "|                               1.0|\n",
            "|                               1.0|\n",
            "|                               1.0|\n",
            "|                             0.615|\n",
            "|                               1.0|\n",
            "|                               1.0|\n",
            "|                            0.6207|\n",
            "|                            0.6578|\n",
            "|                               1.0|\n",
            "|                               1.0|\n",
            "|                               1.0|\n",
            "|                               1.0|\n",
            "|                            0.7007|\n",
            "+----------------------------------+\n",
            "only showing top 20 rows\n",
            "\n"
          ],
          "name": "stdout"
        }
      ]
    },
    {
      "cell_type": "code",
      "metadata": {
        "id": "-I8mRYqcObPB",
        "outputId": "6bb3dd47-a71c-4018-e014-6ca7f2e51b0e",
        "colab": {
          "base_uri": "https://localhost:8080/"
        }
      },
      "source": [
        "df_aug2.printSchema()"
      ],
      "execution_count": 30,
      "outputs": [
        {
          "output_type": "stream",
          "text": [
            "root\n",
            " |-- tweet_id: string (nullable = true)\n",
            " |-- airline_sentiment_confidence: string (nullable = true)\n",
            " |-- negativereason: string (nullable = true)\n",
            " |-- negativereason_confidence: string (nullable = true)\n",
            " |-- airline: string (nullable = true)\n",
            " |-- airline_sentiment_gold: string (nullable = true)\n",
            " |-- name: string (nullable = true)\n",
            " |-- negativereason_gold: string (nullable = true)\n",
            " |-- retweet_count: integer (nullable = true)\n",
            " |-- text: string (nullable = true)\n",
            " |-- tweet_coord: string (nullable = true)\n",
            " |-- tweet_created: string (nullable = true)\n",
            " |-- tweet_location: string (nullable = true)\n",
            " |-- user_timezone: string (nullable = true)\n",
            " |-- airline_sentiment: string (nullable = true)\n",
            " |-- clean_airline_sentiment_confidence: float (nullable = true)\n",
            "\n"
          ],
          "name": "stdout"
        }
      ]
    },
    {
      "cell_type": "code",
      "metadata": {
        "id": "91C7S3nsPmUV"
      },
      "source": [
        ""
      ],
      "execution_count": 30,
      "outputs": []
    },
    {
      "cell_type": "code",
      "metadata": {
        "id": "7mN1wOJHRDpD",
        "outputId": "944bb3b5-0e63-4ffc-9988-fa7328fc3a99",
        "colab": {
          "base_uri": "https://localhost:8080/"
        }
      },
      "source": [
        "df_aug2.select('clean_airline_sentiment_confidence', 'airline_sentiment_confidence').describe().show()"
      ],
      "execution_count": 31,
      "outputs": [
        {
          "output_type": "stream",
          "text": [
            "+-------+----------------------------------+----------------------------+\n",
            "|summary|clean_airline_sentiment_confidence|airline_sentiment_confidence|\n",
            "+-------+----------------------------------+----------------------------+\n",
            "|  count|                             14640|                       14640|\n",
            "|   mean|                0.9001688524429264|          0.9001688524590152|\n",
            "| stddev|               0.16282995912820175|          0.1628299590986725|\n",
            "|    min|                             0.335|                       0.335|\n",
            "|    max|                               1.0|                         1.0|\n",
            "+-------+----------------------------------+----------------------------+\n",
            "\n"
          ],
          "name": "stdout"
        }
      ]
    },
    {
      "cell_type": "code",
      "metadata": {
        "id": "QVsCIJQhmsgd"
      },
      "source": [
        "df_aug2 = df_aug2.drop('airline_sentiment_confidence').withColumnRenamed('clean_airline_sentiment_confidence', 'airline_sentiment_confidence')\n",
        "df_clean = df_aug2"
      ],
      "execution_count": 32,
      "outputs": []
    },
    {
      "cell_type": "code",
      "metadata": {
        "id": "3yDNa39iRgVe",
        "outputId": "24080223-fa96-4f0f-9cb6-d4a6fea863be",
        "colab": {
          "base_uri": "https://localhost:8080/"
        }
      },
      "source": [
        "df_clean.printSchema()"
      ],
      "execution_count": 33,
      "outputs": [
        {
          "output_type": "stream",
          "text": [
            "root\n",
            " |-- tweet_id: string (nullable = true)\n",
            " |-- negativereason: string (nullable = true)\n",
            " |-- negativereason_confidence: string (nullable = true)\n",
            " |-- airline: string (nullable = true)\n",
            " |-- airline_sentiment_gold: string (nullable = true)\n",
            " |-- name: string (nullable = true)\n",
            " |-- negativereason_gold: string (nullable = true)\n",
            " |-- retweet_count: integer (nullable = true)\n",
            " |-- text: string (nullable = true)\n",
            " |-- tweet_coord: string (nullable = true)\n",
            " |-- tweet_created: string (nullable = true)\n",
            " |-- tweet_location: string (nullable = true)\n",
            " |-- user_timezone: string (nullable = true)\n",
            " |-- airline_sentiment: string (nullable = true)\n",
            " |-- airline_sentiment_confidence: float (nullable = true)\n",
            "\n"
          ],
          "name": "stdout"
        }
      ]
    },
    {
      "cell_type": "markdown",
      "metadata": {
        "id": "wzGmeVAzgr57"
      },
      "source": [
        "### Clean Tweet retweet_count"
      ]
    },
    {
      "cell_type": "code",
      "metadata": {
        "id": "A8W-uV6zmopg",
        "outputId": "4159c011-43bd-44df-8c2f-25120aaefb2c",
        "colab": {
          "base_uri": "https://localhost:8080/"
        }
      },
      "source": [
        "df_aug2.select('retweet_count').distinct().count()"
      ],
      "execution_count": 34,
      "outputs": [
        {
          "output_type": "execute_result",
          "data": {
            "text/plain": [
              "19"
            ]
          },
          "metadata": {
            "tags": []
          },
          "execution_count": 34
        }
      ]
    },
    {
      "cell_type": "code",
      "metadata": {
        "id": "EpwhtA95m3NJ",
        "outputId": "1a002f84-1eeb-42a1-e9a2-c92170db3e34",
        "colab": {
          "base_uri": "https://localhost:8080/"
        }
      },
      "source": [
        "df_aug2.select('retweet_count').distinct().show()\n"
      ],
      "execution_count": 35,
      "outputs": [
        {
          "output_type": "stream",
          "text": [
            "+-------------+\n",
            "|retweet_count|\n",
            "+-------------+\n",
            "|           31|\n",
            "|           28|\n",
            "|           44|\n",
            "|           22|\n",
            "|         null|\n",
            "|            1|\n",
            "|            6|\n",
            "|            3|\n",
            "|            5|\n",
            "|           15|\n",
            "|            9|\n",
            "|            4|\n",
            "|            8|\n",
            "|            7|\n",
            "|           32|\n",
            "|           11|\n",
            "|            2|\n",
            "|            0|\n",
            "|           18|\n",
            "+-------------+\n",
            "\n"
          ],
          "name": "stdout"
        }
      ]
    },
    {
      "cell_type": "code",
      "metadata": {
        "id": "JVT69MBBm8Lk"
      },
      "source": [
        "# extract numbers\n",
        "df_aug3 = df_aug2.withColumn('clean_retweet_count', F.regexp_extract(df_aug2.retweet_count , r'^(\\d+)$' , 1))"
      ],
      "execution_count": 36,
      "outputs": []
    },
    {
      "cell_type": "code",
      "metadata": {
        "id": "1ogUUmUOsDHY"
      },
      "source": [
        "df_aug3 = df_aug3.filter(df_aug3.clean_retweet_count != '')"
      ],
      "execution_count": 37,
      "outputs": []
    },
    {
      "cell_type": "code",
      "metadata": {
        "id": "82xxUU0CsLAu",
        "outputId": "b1791030-a1a3-44b4-fc77-e143b0405ec5",
        "colab": {
          "base_uri": "https://localhost:8080/"
        }
      },
      "source": [
        "df_aug3.select('retweet_count').distinct().show()"
      ],
      "execution_count": 38,
      "outputs": [
        {
          "output_type": "stream",
          "text": [
            "+-------------+\n",
            "|retweet_count|\n",
            "+-------------+\n",
            "|           31|\n",
            "|           28|\n",
            "|           44|\n",
            "|           22|\n",
            "|            1|\n",
            "|            6|\n",
            "|            3|\n",
            "|            5|\n",
            "|           15|\n",
            "|            9|\n",
            "|            4|\n",
            "|            8|\n",
            "|            7|\n",
            "|           32|\n",
            "|           11|\n",
            "|            2|\n",
            "|            0|\n",
            "|           18|\n",
            "+-------------+\n",
            "\n"
          ],
          "name": "stdout"
        }
      ]
    },
    {
      "cell_type": "code",
      "metadata": {
        "id": "gwf1BL3rsqoY"
      },
      "source": [
        "df_aug3 = df_aug3.withColumn('clean_retweet_count', df_aug3.clean_retweet_count.cast('integer'))"
      ],
      "execution_count": 39,
      "outputs": []
    },
    {
      "cell_type": "code",
      "metadata": {
        "id": "bmtuoZeBs-LJ",
        "outputId": "7a5780be-a347-4801-e1f0-992ed4b9c1ae",
        "colab": {
          "base_uri": "https://localhost:8080/"
        }
      },
      "source": [
        "df_aug3.select('retweet_count').distinct().show()"
      ],
      "execution_count": 40,
      "outputs": [
        {
          "output_type": "stream",
          "text": [
            "+-------------+\n",
            "|retweet_count|\n",
            "+-------------+\n",
            "|           31|\n",
            "|           28|\n",
            "|           44|\n",
            "|           22|\n",
            "|            1|\n",
            "|            6|\n",
            "|            3|\n",
            "|            5|\n",
            "|           15|\n",
            "|            9|\n",
            "|            4|\n",
            "|            8|\n",
            "|            7|\n",
            "|           32|\n",
            "|           11|\n",
            "|            2|\n",
            "|            0|\n",
            "|           18|\n",
            "+-------------+\n",
            "\n"
          ],
          "name": "stdout"
        }
      ]
    },
    {
      "cell_type": "code",
      "metadata": {
        "id": "ZhVlwlYttAI-",
        "outputId": "dfe149cb-cfbb-4410-855a-3ef86636ed45",
        "colab": {
          "base_uri": "https://localhost:8080/"
        }
      },
      "source": [
        "df_aug3.printSchema()"
      ],
      "execution_count": 41,
      "outputs": [
        {
          "output_type": "stream",
          "text": [
            "root\n",
            " |-- tweet_id: string (nullable = true)\n",
            " |-- negativereason: string (nullable = true)\n",
            " |-- negativereason_confidence: string (nullable = true)\n",
            " |-- airline: string (nullable = true)\n",
            " |-- airline_sentiment_gold: string (nullable = true)\n",
            " |-- name: string (nullable = true)\n",
            " |-- negativereason_gold: string (nullable = true)\n",
            " |-- retweet_count: integer (nullable = true)\n",
            " |-- text: string (nullable = true)\n",
            " |-- tweet_coord: string (nullable = true)\n",
            " |-- tweet_created: string (nullable = true)\n",
            " |-- tweet_location: string (nullable = true)\n",
            " |-- user_timezone: string (nullable = true)\n",
            " |-- airline_sentiment: string (nullable = true)\n",
            " |-- airline_sentiment_confidence: float (nullable = true)\n",
            " |-- clean_retweet_count: integer (nullable = true)\n",
            "\n"
          ],
          "name": "stdout"
        }
      ]
    },
    {
      "cell_type": "code",
      "metadata": {
        "id": "W7YnnwFstq39"
      },
      "source": [
        "df_clean = df_aug3"
      ],
      "execution_count": 42,
      "outputs": []
    },
    {
      "cell_type": "code",
      "metadata": {
        "id": "P_tjOsnotDXR"
      },
      "source": [
        ""
      ],
      "execution_count": 42,
      "outputs": []
    },
    {
      "cell_type": "markdown",
      "metadata": {
        "id": "3Z-MYJP-tmPF"
      },
      "source": [
        "### Select Columns of interest "
      ]
    },
    {
      "cell_type": "code",
      "metadata": {
        "id": "6eDam9aQtk_0",
        "outputId": "5a6695f2-a3c9-4339-8255-d078a291510e",
        "colab": {
          "base_uri": "https://localhost:8080/"
        }
      },
      "source": [
        "df_clean.select('airline_sentiment','airline_sentiment_confidence', 'retweet_count').sample(0.4, seed=34).show(30)"
      ],
      "execution_count": 43,
      "outputs": [
        {
          "output_type": "stream",
          "text": [
            "+-----------------+----------------------------+-------------+\n",
            "|airline_sentiment|airline_sentiment_confidence|retweet_count|\n",
            "+-----------------+----------------------------+-------------+\n",
            "|          neutral|                      0.6837|            0|\n",
            "|         negative|                         1.0|            0|\n",
            "|         positive|                      0.6745|            0|\n",
            "|          neutral|                      0.6769|            0|\n",
            "|         positive|                         1.0|            0|\n",
            "|         positive|                         1.0|            0|\n",
            "|         positive|                         1.0|            0|\n",
            "|         positive|                         1.0|            0|\n",
            "|         negative|                      0.6705|            0|\n",
            "|         positive|                         1.0|            0|\n",
            "|         positive|                         1.0|            0|\n",
            "|         negative|                         1.0|            0|\n",
            "|          neutral|                       0.615|            0|\n",
            "|         positive|                         1.0|            0|\n",
            "|         negative|                      0.6688|            0|\n",
            "|          neutral|                         1.0|            0|\n",
            "|          neutral|                      0.6799|            0|\n",
            "|          neutral|                         1.0|            0|\n",
            "|          neutral|                      0.6436|            0|\n",
            "|          neutral|                      0.6764|            0|\n",
            "|          neutral|                         1.0|            0|\n",
            "|          neutral|                      0.7118|            0|\n",
            "|         positive|                         1.0|            0|\n",
            "|         positive|                       0.635|            0|\n",
            "|          neutral|                         1.0|            0|\n",
            "|         positive|                         1.0|            0|\n",
            "|          neutral|                      0.6814|            0|\n",
            "|          neutral|                      0.6492|            0|\n",
            "|          neutral|                         1.0|            0|\n",
            "|         positive|                         1.0|            0|\n",
            "+-----------------+----------------------------+-------------+\n",
            "only showing top 30 rows\n",
            "\n"
          ],
          "name": "stdout"
        }
      ]
    },
    {
      "cell_type": "code",
      "metadata": {
        "id": "4FnUUtDttzhq"
      },
      "source": [
        "dataset = df_clean.select('airline_sentiment','airline_sentiment_confidence', 'retweet_count')"
      ],
      "execution_count": 69,
      "outputs": []
    },
    {
      "cell_type": "code",
      "metadata": {
        "id": "-6DDgujbuLW4"
      },
      "source": [
        ""
      ],
      "execution_count": 69,
      "outputs": []
    },
    {
      "cell_type": "markdown",
      "metadata": {
        "id": "o1JDlf2kwg7k"
      },
      "source": [
        "## Converting target class One-Hot Encoding"
      ]
    },
    {
      "cell_type": "code",
      "metadata": {
        "id": "zA9T9w8Xwn36"
      },
      "source": [
        "#getting distinct values\n",
        "sentiment_list = list(map(lambda x: x.asDict()['airline_sentiment'],  dataset.select('airline_sentiment').distinct().collect()))"
      ],
      "execution_count": 70,
      "outputs": []
    },
    {
      "cell_type": "code",
      "metadata": {
        "id": "J-QpxNXfxSMG",
        "outputId": "f706265b-514c-49b9-df87-b9116c4ed550",
        "colab": {
          "base_uri": "https://localhost:8080/"
        }
      },
      "source": [
        "sentiment_list"
      ],
      "execution_count": 71,
      "outputs": [
        {
          "output_type": "execute_result",
          "data": {
            "text/plain": [
              "['positive', 'neutral', 'negative']"
            ]
          },
          "metadata": {
            "tags": []
          },
          "execution_count": 71
        }
      ]
    },
    {
      "cell_type": "code",
      "metadata": {
        "id": "dAoL8Rk-zgOO"
      },
      "source": [
        "sentiment_label_class = dict(map(lambda x: (x[1],x[0]),enumerate(sentiment_list)))"
      ],
      "execution_count": 72,
      "outputs": []
    },
    {
      "cell_type": "code",
      "metadata": {
        "id": "l6FFygs9zs8M",
        "outputId": "1351754a-5170-485d-ba96-bfcf154e050a",
        "colab": {
          "base_uri": "https://localhost:8080/"
        }
      },
      "source": [
        "sentiment_label_class"
      ],
      "execution_count": 73,
      "outputs": [
        {
          "output_type": "execute_result",
          "data": {
            "text/plain": [
              "{'negative': 2, 'neutral': 1, 'positive': 0}"
            ]
          },
          "metadata": {
            "tags": []
          },
          "execution_count": 73
        }
      ]
    },
    {
      "cell_type": "code",
      "metadata": {
        "id": "lUs08zYixSV0"
      },
      "source": [
        "## Bummer if we do this here , we end up creating massive extra redundant data that we can always generate when keeping in TFrecord"
      ],
      "execution_count": 74,
      "outputs": []
    },
    {
      "cell_type": "code",
      "metadata": {
        "id": "HgIkBmDpGvbf",
        "outputId": "ce49f44c-9b72-482b-93f0-28be3dfc6be3",
        "colab": {
          "base_uri": "https://localhost:8080/"
        }
      },
      "source": [
        "df_clean.count()"
      ],
      "execution_count": 75,
      "outputs": [
        {
          "output_type": "execute_result",
          "data": {
            "text/plain": [
              "14632"
            ]
          },
          "metadata": {
            "tags": []
          },
          "execution_count": 75
        }
      ]
    },
    {
      "cell_type": "code",
      "metadata": {
        "id": "B1QaX8Z7DEfc"
      },
      "source": [
        ""
      ],
      "execution_count": null,
      "outputs": []
    },
    {
      "cell_type": "code",
      "metadata": {
        "id": "4s4nLlQSDEuN",
        "outputId": "bc3c8107-6563-4ce9-fc9a-0eaa18db5b01",
        "colab": {
          "base_uri": "https://localhost:8080/"
        }
      },
      "source": [
        "from pyspark.sql import Row\n",
        "_tmp1 = spark.createDataFrame([Row(col=1 , val='a'), Row(col=2 , val='b') , Row(col=3 , val='c')])\n",
        "_tmp2 = spark.createDataFrame([Row(col=1 , val='d'), Row(col=2 , val='e') , Row(col=3 , val='f')])\n",
        "_tmp = _tmp1.join(_tmp2 , on='col' , how='inner')\n",
        "_tmp.show()"
      ],
      "execution_count": 83,
      "outputs": [
        {
          "output_type": "stream",
          "text": [
            "+---+---+---+\n",
            "|col|val|val|\n",
            "+---+---+---+\n",
            "|  1|  a|  d|\n",
            "|  3|  c|  f|\n",
            "|  2|  b|  e|\n",
            "+---+---+---+\n",
            "\n"
          ],
          "name": "stdout"
        }
      ]
    },
    {
      "cell_type": "code",
      "metadata": {
        "id": "crrsF-TyxSbl",
        "outputId": "d0fc4f5c-483e-42b6-d311-cb6a8239d4f5",
        "colab": {
          "base_uri": "https://localhost:8080/"
        }
      },
      "source": [
        "## so we just replace it by the index\n",
        "from pyspark.sql import Row\n",
        "\n",
        "## GOING FULL RDD MODE for this one\n",
        "\n",
        "def transform(r):\n",
        "    data = r.asDict()\n",
        "    return Row(**data ,label= sentiment_label_class[data['airline_sentiment']] )\n",
        "\n",
        "prepared_dataset = dataset.rdd.map(transform).toDF().drop('airline_sentiment')\n",
        "prepared_dataset = prepared_dataset.withColumn('retweet_count', prepared_dataset.retweet_count.cast('integer'))\n",
        "prepared_dataset = prepared_dataset.withColumn('label', prepared_dataset.label.cast('integer'))\n",
        "prepared_dataset.show()\n",
        "\n",
        "prepared_dataset.count() ### -> MLIB or -> GCP Bucket -> TPU/GPU"
      ],
      "execution_count": 125,
      "outputs": [
        {
          "output_type": "stream",
          "text": [
            "+----------------------------+-------------+-----+\n",
            "|airline_sentiment_confidence|retweet_count|label|\n",
            "+----------------------------+-------------+-----+\n",
            "|                         1.0|            0|    1|\n",
            "|         0.34860000014305115|            0|    0|\n",
            "|          0.6837000250816345|            0|    1|\n",
            "|                         1.0|            0|    2|\n",
            "|                         1.0|            0|    2|\n",
            "|                         1.0|            0|    2|\n",
            "|          0.6744999885559082|            0|    0|\n",
            "|          0.6340000033378601|            0|    1|\n",
            "|          0.6559000015258789|            0|    0|\n",
            "|                         1.0|            0|    0|\n",
            "|          0.6769000291824341|            0|    1|\n",
            "|                         1.0|            0|    0|\n",
            "|                         1.0|            0|    0|\n",
            "|          0.6450999975204468|            0|    0|\n",
            "|                         1.0|            0|    0|\n",
            "|          0.6841999888420105|            0|    2|\n",
            "|                         1.0|            0|    0|\n",
            "|                         1.0|            0|    2|\n",
            "|                         1.0|            0|    0|\n",
            "|                         1.0|            0|    0|\n",
            "+----------------------------+-------------+-----+\n",
            "only showing top 20 rows\n",
            "\n"
          ],
          "name": "stdout"
        },
        {
          "output_type": "execute_result",
          "data": {
            "text/plain": [
              "14632"
            ]
          },
          "metadata": {
            "tags": []
          },
          "execution_count": 125
        }
      ]
    },
    {
      "cell_type": "code",
      "metadata": {
        "id": "FG4gU32A5voi",
        "outputId": "4d3226e9-a622-4d0a-a4f0-46437a9ead7b",
        "colab": {
          "base_uri": "https://localhost:8080/"
        }
      },
      "source": [
        "prepared_dataset.printSchema()"
      ],
      "execution_count": 126,
      "outputs": [
        {
          "output_type": "stream",
          "text": [
            "root\n",
            " |-- airline_sentiment_confidence: double (nullable = true)\n",
            " |-- retweet_count: integer (nullable = true)\n",
            " |-- label: integer (nullable = true)\n",
            "\n"
          ],
          "name": "stdout"
        }
      ]
    },
    {
      "cell_type": "markdown",
      "metadata": {
        "id": "zKv_dTr_uRRf"
      },
      "source": [
        "# TensorFlow TfRecords"
      ]
    },
    {
      "cell_type": "code",
      "metadata": {
        "id": "1zFx-k4EuULU"
      },
      "source": [
        "import tensorflow as tf\n",
        "import tensorflow.keras as keras\n",
        "import numpy as np\n",
        "import matplotlib.pyplot as plt\n",
        "import seaborn as sn"
      ],
      "execution_count": 127,
      "outputs": []
    },
    {
      "cell_type": "code",
      "metadata": {
        "id": "sFl6xIaW7E9V",
        "outputId": "167a0ef9-ac49-402e-9b60-11d0f52a32f9",
        "colab": {
          "base_uri": "https://localhost:8080/"
        }
      },
      "source": [
        "prepared_dataset.head(10)\n",
        "\n"
      ],
      "execution_count": 135,
      "outputs": [
        {
          "output_type": "execute_result",
          "data": {
            "text/plain": [
              "[Row(airline_sentiment_confidence=1.0, retweet_count=0, label=1),\n",
              " Row(airline_sentiment_confidence=0.34860000014305115, retweet_count=0, label=0),\n",
              " Row(airline_sentiment_confidence=0.6837000250816345, retweet_count=0, label=1),\n",
              " Row(airline_sentiment_confidence=1.0, retweet_count=0, label=2),\n",
              " Row(airline_sentiment_confidence=1.0, retweet_count=0, label=2),\n",
              " Row(airline_sentiment_confidence=1.0, retweet_count=0, label=2),\n",
              " Row(airline_sentiment_confidence=0.6744999885559082, retweet_count=0, label=0),\n",
              " Row(airline_sentiment_confidence=0.6340000033378601, retweet_count=0, label=1),\n",
              " Row(airline_sentiment_confidence=0.6559000015258789, retweet_count=0, label=0),\n",
              " Row(airline_sentiment_confidence=1.0, retweet_count=0, label=0)]"
            ]
          },
          "metadata": {
            "tags": []
          },
          "execution_count": 135
        }
      ]
    },
    {
      "cell_type": "code",
      "metadata": {
        "id": "lrNZZUNX7hYm"
      },
      "source": [
        "dataset_gen = prepared_dataset.toLocalIterator(prefetchPartitions=True)    "
      ],
      "execution_count": 136,
      "outputs": []
    },
    {
      "cell_type": "code",
      "metadata": {
        "id": "G6d5TN3A_Ryc",
        "outputId": "d34ccc7a-e619-434a-e2b5-d8305020cbbc",
        "colab": {
          "base_uri": "https://localhost:8080/"
        }
      },
      "source": [
        "# prepared_dataset.count()\n",
        "# next(dataset_gen)"
      ],
      "execution_count": 132,
      "outputs": [
        {
          "output_type": "execute_result",
          "data": {
            "text/plain": [
              "Row(airline_sentiment_confidence=0.6837000250816345, retweet_count=0, label=1)"
            ]
          },
          "metadata": {
            "tags": []
          },
          "execution_count": 132
        }
      ]
    },
    {
      "cell_type": "markdown",
      "metadata": {
        "id": "uz5f32lK7omE"
      },
      "source": [
        "## Create static tf record by consuming Spark Data"
      ]
    },
    {
      "cell_type": "code",
      "metadata": {
        "id": "e5qrFk2E7o5V"
      },
      "source": [
        "def _bytes_feature(value):\n",
        "  \"\"\"Returns a bytes_list from a string / byte.\"\"\"\n",
        "  # If the value is an eager tensor BytesList won't unpack a string from an EagerTensor.\n",
        "  if isinstance(value, type(tf.constant(0))):\n",
        "      value = value.numpy() \n",
        "  return tf.train.Feature(bytes_list=tf.train.BytesList(value=[value]))\n",
        "\n",
        "def _float_feature(value):\n",
        "  \"\"\"Returns a float_list from a float / double.\"\"\"\n",
        "  return tf.train.Feature(float_list=tf.train.FloatList(value=[value]))\n",
        "\n",
        "def _int64_feature(value):\n",
        "  \"\"\"Returns an int64_list from a bool / enum / int / uint.\"\"\"\n",
        "  return tf.train.Feature(int64_list=tf.train.Int64List(value=[value]))"
      ],
      "execution_count": 116,
      "outputs": []
    },
    {
      "cell_type": "code",
      "metadata": {
        "id": "mXpL_z-o7o8j"
      },
      "source": [
        "#Defining the features of the images\n",
        "## \n",
        "## \n",
        "def serialize_example(x , y):\n",
        "  features = {\n",
        "      'x': _bytes_feature(x),\n",
        "      'y': _int64_feature(y),\n",
        "  }\n",
        "  #Creating Features message\n",
        "  example_proto = tf.train.Example(features=tf.train.Features(feature=features))\n",
        "  return example_proto.SerializeToString() "
      ],
      "execution_count": 117,
      "outputs": []
    },
    {
      "cell_type": "code",
      "metadata": {
        "id": "BtopFsQO7o_F"
      },
      "source": [
        "#reading from the file\n",
        "def read_tfrecord(serialized_example):\n",
        "    feature_description = {\n",
        "        'x': tf.io.FixedLenFeature((), tf.string),\n",
        "        'y': tf.io.FixedLenFeature((), tf.int64),\n",
        "    }\n",
        "    example = tf.io.parse_single_example(serialized_example, feature_description)\n",
        "    \n",
        "    _shape = tf.stack([2])\n",
        "    _raw = example['x']\n",
        "    # Decode the raw bytes so it becomes a tensor with type.\n",
        "    x = tf.io.decode_raw(_raw, tf.float64)\n",
        "    x = tf.reshape(x, _shape)\n",
        "    # image = tf.reverse(image, axis=[2])\n",
        "    y = tf.one_hot(example['y'] , depth = len(sentiment_list)) ## from way above\n",
        "    return x,y "
      ],
      "execution_count": 118,
      "outputs": []
    },
    {
      "cell_type": "code",
      "metadata": {
        "id": "Fhr_8zNe7pBi"
      },
      "source": [
        "def convertToRecord(dataset_gen , tf_filename='./dataset.tfrecords'):\n",
        "    with tf.io.TFRecordWriter(tf_filename) as writer:\n",
        "          for sample in dataset_gen:\n",
        "              _dt = sample.asDict()\n",
        "              x = np.array([_dt['airline_sentiment_confidence'], _dt['retweet_count']])\n",
        "              x = x.astype(np.float64)\n",
        "              xb = x.tobytes()\n",
        "              y = _dt['label']\n",
        "              sd = serialize_example(xb , y)\n",
        "              writer.write(sd)"
      ],
      "execution_count": 121,
      "outputs": []
    },
    {
      "cell_type": "code",
      "metadata": {
        "id": "ulBRyk6-7pEH"
      },
      "source": [
        "convertToRecord(dataset_gen)"
      ],
      "execution_count": 137,
      "outputs": []
    },
    {
      "cell_type": "code",
      "metadata": {
        "id": "YgXLt6u87pGd"
      },
      "source": [
        "import multiprocessing\n",
        "cnt = multiprocessing.cpu_count()\n",
        "\n",
        "batch_size = 32\n",
        "\n",
        "def load_dataset(filenames , batch_size = 32,shuffle=True):\n",
        "    ignore_order = tf.data.Options()\n",
        "    ignore_order.experimental_deterministic = False  # disable order, increase speed\n",
        "    dataset = tf.data.TFRecordDataset(\n",
        "        filenames\n",
        "    )  \n",
        "    # automatically interleaves reads from multiple files\n",
        "    dataset = dataset.with_options(\n",
        "        ignore_order\n",
        "    )  # uses data as soon as it streams in, rather than in its original order\n",
        "    dataset = dataset.prefetch(buffer_size = batch_size * 2)\n",
        "    dataset = dataset.map(\n",
        "        read_tfrecord , num_parallel_calls =  tf.data.experimental.AUTOTUNE\n",
        "    )\n",
        "    \n",
        "    dataset = dataset.batch(batch_size)\n",
        "    if shuffle:\n",
        "      dataset = dataset.shuffle(batch_size)\n",
        "    \n",
        "    # returns a dataset of (image, label) pairs if labeled=True or just images if labeled=False\n",
        "    return dataset"
      ],
      "execution_count": 138,
      "outputs": []
    },
    {
      "cell_type": "code",
      "metadata": {
        "id": "yl9SOVrNDSkz"
      },
      "source": [
        "dataset = load_dataset(['dataset.tfrecords'])"
      ],
      "execution_count": 139,
      "outputs": []
    },
    {
      "cell_type": "code",
      "metadata": {
        "id": "9vHNrMa2ecu6"
      },
      "source": [
        ""
      ],
      "execution_count": 142,
      "outputs": []
    },
    {
      "cell_type": "code",
      "metadata": {
        "id": "i5N1kjmofZr1"
      },
      "source": [
        "## Question : Try to get count of \n",
        "## class 1 , 2 , 3 -> positive , negative , neutral"
      ],
      "execution_count": 67,
      "outputs": []
    },
    {
      "cell_type": "code",
      "metadata": {
        "id": "soEsOM1EgO2O"
      },
      "source": [
        ""
      ],
      "execution_count": null,
      "outputs": []
    }
  ]
}